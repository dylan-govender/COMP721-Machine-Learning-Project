{
  "nbformat": 4,
  "nbformat_minor": 0,
  "metadata": {
    "colab": {
      "provenance": [],
      "collapsed_sections": [
        "nF6jnQ55CV2o"
      ],
      "toc_visible": true,
      "include_colab_link": true
    },
    "kernelspec": {
      "name": "python3",
      "display_name": "Python 3"
    },
    "language_info": {
      "name": "python"
    }
  },
  "cells": [
    {
      "cell_type": "markdown",
      "metadata": {
        "id": "view-in-github",
        "colab_type": "text"
      },
      "source": [
        "<a href=\"https://colab.research.google.com/github/dylan-govender/COMP721-Machine-Learning-Project/blob/main/Game_Outcome_Prediction_Part_1.ipynb\" target=\"_parent\"><img src=\"https://colab.research.google.com/assets/colab-badge.svg\" alt=\"Open In Colab\"/></a>"
      ]
    },
    {
      "cell_type": "markdown",
      "source": [
        "# **A. Installations**"
      ],
      "metadata": {
        "id": "nF6jnQ55CV2o"
      }
    },
    {
      "cell_type": "code",
      "execution_count": null,
      "metadata": {
        "colab": {
          "base_uri": "https://localhost:8080/"
        },
        "id": "uOQIhcPQCPN5",
        "outputId": "2f8a5e33-2626-49e2-c882-a9df7e31d1f6"
      },
      "outputs": [
        {
          "output_type": "stream",
          "name": "stdout",
          "text": [
            "Mounted at /content/drive\n"
          ]
        }
      ],
      "source": [
        "from google.colab import drive\n",
        "\n",
        "drive.mount('/content/drive')"
      ]
    },
    {
      "cell_type": "code",
      "source": [
        "!pip install xgboost"
      ],
      "metadata": {
        "colab": {
          "base_uri": "https://localhost:8080/"
        },
        "id": "knImtNy6PD2Y",
        "outputId": "275460cb-f7ba-4930-f27b-5d11f0d7b16a"
      },
      "execution_count": null,
      "outputs": [
        {
          "output_type": "stream",
          "name": "stdout",
          "text": [
            "Requirement already satisfied: xgboost in /usr/local/lib/python3.10/dist-packages (2.1.2)\n",
            "Requirement already satisfied: numpy in /usr/local/lib/python3.10/dist-packages (from xgboost) (1.26.4)\n",
            "Requirement already satisfied: nvidia-nccl-cu12 in /usr/local/lib/python3.10/dist-packages (from xgboost) (2.23.4)\n",
            "Requirement already satisfied: scipy in /usr/local/lib/python3.10/dist-packages (from xgboost) (1.13.1)\n"
          ]
        }
      ]
    },
    {
      "cell_type": "markdown",
      "source": [
        "# **B. Imports**"
      ],
      "metadata": {
        "id": "XvukJKyVCbU7"
      }
    },
    {
      "cell_type": "code",
      "execution_count": null,
      "metadata": {
        "id": "Cj1KyAA0CbU-"
      },
      "outputs": [],
      "source": [
        "import pandas as pd\n",
        "import numpy as np\n",
        "\n",
        "from sklearn.model_selection import train_test_split\n",
        "\n",
        "from sklearn.ensemble import RandomForestClassifier\n",
        "from sklearn.linear_model import LogisticRegression\n",
        "\n",
        "from sklearn.metrics import accuracy_score, classification_report"
      ]
    },
    {
      "cell_type": "markdown",
      "source": [
        "# **1. Load the NBA Data**"
      ],
      "metadata": {
        "id": "SevVEILDCdwG"
      }
    },
    {
      "cell_type": "code",
      "execution_count": null,
      "metadata": {
        "id": "qlN-YrLXCdwJ"
      },
      "outputs": [],
      "source": [
        "# Player Statistics\n",
        "players = pd.read_csv('/content/drive/MyDrive/COMP721/Project/databasebasketball/players.txt')\n",
        "player_regular_season = pd.read_csv('/content/drive/MyDrive/COMP721/Project/databasebasketball/player_regular_season.txt')\n",
        "player_regular_season_career = pd.read_csv('/content/drive/MyDrive/COMP721/Project/databasebasketball/player_regular_season_career.txt')\n",
        "player_playoffs = pd.read_csv('/content/drive/MyDrive/COMP721/Project/databasebasketball/player_playoffs.txt')\n",
        "player_playoffs_career = pd.read_csv('/content/drive/MyDrive/COMP721/Project/databasebasketball/player_playoffs_career.txt')\n",
        "player_allstar = pd.read_csv('/content/drive/MyDrive/COMP721/Project/databasebasketball/player_allstar.txt')\n",
        "\n",
        "# Team Statistics\n",
        "teams = pd.read_csv('/content/drive/MyDrive/COMP721/Project/databasebasketball/teams.txt')\n",
        "team_season = pd.read_csv('/content/drive/MyDrive/COMP721/Project/databasebasketball/team_season.txt')\n",
        "\n",
        "draft = pd.read_csv('/content/drive/MyDrive/COMP721/Project/databasebasketball/draft.txt', encoding='ISO-8859-1', on_bad_lines='skip')\n",
        "\n",
        "# Coach Statistics\n",
        "coaches_season = pd.read_csv('/content/drive/MyDrive/COMP721/Project/databasebasketball/coaches_season.txt')\n",
        "coaches_career = pd.read_csv('/content/drive/MyDrive/COMP721/Project/databasebasketball/coaches_career.txt')\n"
      ]
    },
    {
      "cell_type": "markdown",
      "source": [
        "# **2. Dataset Preprocessing**"
      ],
      "metadata": {
        "id": "sZt7TydBChO6"
      }
    },
    {
      "cell_type": "markdown",
      "source": [
        "## **2.1. Coach Career Data**"
      ],
      "metadata": {
        "id": "-X808ipkEW1L"
      }
    },
    {
      "cell_type": "code",
      "execution_count": null,
      "metadata": {
        "id": "RZBZ5TksChO8"
      },
      "outputs": [],
      "source": [
        "# Calculating career win ratios for season and playoffs\n",
        "coaches_career['season_win_ratio'] = coaches_career['season_win'] / (coaches_career['season_win'] + coaches_career['season_loss'])\n",
        "coaches_career['playoff_win_ratio'] = coaches_career['playoff_win'] / (coaches_career['playoff_win'] + coaches_career['playoff_loss'])\n"
      ]
    },
    {
      "cell_type": "markdown",
      "source": [
        "## **2.2. Coach Season Data**"
      ],
      "metadata": {
        "id": "H77lXNrsF9Gs"
      }
    },
    {
      "cell_type": "code",
      "execution_count": null,
      "metadata": {
        "id": "AbnTkkkKF9Gv"
      },
      "outputs": [],
      "source": [
        "# Season win ratio per team per year\n",
        "coaches_season['win_ratio'] = coaches_season['season_win'] / (coaches_season['season_win'] + coaches_season['season_loss'])\n",
        "team_coaching_stats = coaches_season.groupby(['team', 'year']).agg({\n",
        "    'win_ratio': 'mean',\n",
        "    'playoff_win': 'mean',\n",
        "    'playoff_loss': 'mean'\n",
        "}).reset_index()\n"
      ]
    },
    {
      "cell_type": "markdown",
      "source": [
        "## **2.3. Draft Data**"
      ],
      "metadata": {
        "id": "lqVJDipzF_1M"
      }
    },
    {
      "cell_type": "code",
      "execution_count": null,
      "metadata": {
        "id": "ersrx3MAF_1N"
      },
      "outputs": [],
      "source": [
        "draft['selection'] = draft['selection'].replace(0, None)  # Handle missing data (0 means undrafted)\n",
        "draft_positions = draft.groupby('team').agg({\n",
        "    'selection': 'mean'\n",
        "}).reset_index()\n"
      ]
    },
    {
      "cell_type": "markdown",
      "source": [
        "## **2.4. Player All-Star Data**"
      ],
      "metadata": {
        "id": "g0Z3qBGwGAFn"
      }
    },
    {
      "cell_type": "code",
      "execution_count": null,
      "metadata": {
        "id": "pHpcHs0iGAFp"
      },
      "outputs": [],
      "source": [
        "# Count all-star appearances by team and year\n",
        "allstar_counts = player_allstar.groupby(['year', 'ilkid']).size().reset_index(name='allstar_appearances')\n"
      ]
    },
    {
      "cell_type": "markdown",
      "source": [
        "## **2.5. Player Playoff and Regular Season Statistics**"
      ],
      "metadata": {
        "id": "Y25gaE6nGATq"
      }
    },
    {
      "cell_type": "code",
      "execution_count": null,
      "metadata": {
        "id": "atznwJ-mGATs"
      },
      "outputs": [],
      "source": [
        "# Aggregating regular season and playoff stats for each player\n",
        "player_regular_avg = player_regular_season.groupby('team').agg({\n",
        "    'pts': 'mean',\n",
        "    'gp': 'mean',\n",
        "    'oreb': 'mean',\n",
        "    'dreb': 'mean',\n",
        "    'reb': 'mean',\n",
        "    'asts': 'mean',\n",
        "    'stl': 'mean',\n",
        "    'blk': 'mean',\n",
        "    'turnover': 'mean',\n",
        "    'pf': 'mean',\n",
        "    'fga': 'mean',\n",
        "    'fgm': 'mean',\n",
        "    'fta': 'mean',\n",
        "    'ftm': 'mean',\n",
        "    'tpa': 'mean',\n",
        "    'tpm': 'mean'\n",
        "}).reset_index()\n",
        "\n",
        "player_playoff_avg = player_playoffs.groupby('team').agg({\n",
        "    'pts': 'mean',\n",
        "    'gp': 'mean',\n",
        "    'oreb': 'mean',\n",
        "    'dreb': 'mean',\n",
        "    'reb': 'mean',\n",
        "    'asts': 'mean',\n",
        "    'stl': 'mean',\n",
        "    'blk': 'mean',\n",
        "    'turnover': 'mean',\n",
        "    'pf': 'mean',\n",
        "    'fga': 'mean',\n",
        "    'fgm': 'mean',\n",
        "    'fta': 'mean',\n",
        "    'ftm': 'mean',\n",
        "    'tpa': 'mean',\n",
        "    'tpm': 'mean'\n",
        "}).reset_index()\n"
      ]
    },
    {
      "cell_type": "markdown",
      "source": [
        "## **2.6. Team Regular Season Statistics**"
      ],
      "metadata": {
        "id": "SImxw4-9GAfi"
      }
    },
    {
      "cell_type": "code",
      "execution_count": null,
      "metadata": {
        "id": "M_B_Vgu_GAfk"
      },
      "outputs": [],
      "source": [
        "# Calculate win ratio and other key team stats\n",
        "team_season['win_loss_ratio'] = team_season['won'] / (team_season['won'] + team_season['lost'])\n",
        "team_stats = team_season[['team', 'year', 'win_loss_ratio']]\n",
        "team_stats = team_season.groupby(['team', 'year']).agg({\n",
        "    'win_loss_ratio': 'mean',\n",
        "    'o_pts': 'mean',\n",
        "    'o_fgm': 'mean',\n",
        "    'o_fga': 'mean',\n",
        "    'o_ftm': 'mean',\n",
        "    'o_fta': 'mean',\n",
        "    'o_oreb': 'mean',\n",
        "    'o_dreb': 'mean',\n",
        "    'o_reb': 'mean',\n",
        "    'o_asts': 'mean',\n",
        "    'o_pf': 'mean',\n",
        "    'o_stl': 'mean',\n",
        "    'o_to': 'mean',\n",
        "    'o_blk': 'mean',\n",
        "    'o_3pm': 'mean',\n",
        "    'o_3pa': 'mean',\n",
        "    'd_pts': 'mean',\n",
        "    'd_fgm': 'mean',\n",
        "    'd_fga': 'mean',\n",
        "    'd_ftm': 'mean',\n",
        "    'd_fta': 'mean',\n",
        "    'd_oreb': 'mean',\n",
        "    'd_dreb': 'mean',\n",
        "    'd_reb': 'mean',\n",
        "    'd_asts': 'mean',\n",
        "    'd_pf': 'mean',\n",
        "    'd_stl': 'mean',\n",
        "    'd_to': 'mean',\n",
        "    'd_blk': 'mean',\n",
        "    'd_3pm': 'mean',\n",
        "    'd_3pa': 'mean'\n",
        "}).reset_index()\n"
      ]
    },
    {
      "cell_type": "markdown",
      "source": [
        "# **3. Model Implementation**"
      ],
      "metadata": {
        "id": "nMQ1um_aC2OJ"
      }
    },
    {
      "cell_type": "markdown",
      "source": [
        "## **3.1. Create Match-Up Data**"
      ],
      "metadata": {
        "id": "FLTmny6XGv4B"
      }
    },
    {
      "cell_type": "code",
      "execution_count": null,
      "metadata": {
        "id": "oGQtCQSJC2OM"
      },
      "outputs": [],
      "source": [
        "full_data = team_stats.merge(team_coaching_stats, on=['team', 'year'], how='left')\n",
        "full_data = full_data.merge(draft_positions, on='team', how='left')\n",
        "full_data = full_data.merge(player_regular_avg, on='team', how='left')\n",
        "\n",
        "\n"
      ]
    },
    {
      "cell_type": "code",
      "source": [
        "full_data.head()"
      ],
      "metadata": {
        "colab": {
          "base_uri": "https://localhost:8080/"
        },
        "id": "6Vmg-8piI_Df",
        "outputId": "184e5ba0-2857-44ca-b420-94f1306ac946"
      },
      "execution_count": null,
      "outputs": [
        {
          "output_type": "execute_result",
          "data": {
            "text/plain": [
              "  team  year  win_loss_ratio   o_pts   o_fgm   o_fga   o_ftm   o_fta  o_oreb  \\\n",
              "0  ANA  1967        0.320513  8704.0  3172.0  7606.0  2141.0  2916.0     0.0   \n",
              "1  AND  1949        0.578125  5589.0  1943.0  6254.0  1703.0  2343.0     0.0   \n",
              "2  ATL  1968        0.585366  9123.0  3605.0  7844.0  1913.0  2785.0     0.0   \n",
              "3  ATL  1969        0.585366  9646.0  3817.0  7907.0  2012.0  2669.0     0.0   \n",
              "4  ATL  1970        0.439024  9348.0  3614.0  7779.0  2120.0  2975.0     0.0   \n",
              "\n",
              "   o_dreb  ...        stl        blk   turnover          pf         fga  \\\n",
              "0     0.0  ...   0.000000   0.000000  79.210526  114.842105  406.263158   \n",
              "1     0.0  ...   0.000000   0.000000   0.000000  112.875000  390.875000   \n",
              "2     0.0  ...  38.331624  23.023932  61.225641  122.747009  442.929915   \n",
              "3     0.0  ...  38.331624  23.023932  61.225641  122.747009  442.929915   \n",
              "4     0.0  ...  38.331624  23.023932  61.225641  122.747009  442.929915   \n",
              "\n",
              "          fgm         fta         ftm        tpa        tpm  \n",
              "0  170.052632  153.421053  112.473684  36.578947  11.157895  \n",
              "1  121.437500  146.437500  106.437500   0.000000   0.000000  \n",
              "2  204.271795  146.697436  110.410256  32.095726  10.617094  \n",
              "3  204.271795  146.697436  110.410256  32.095726  10.617094  \n",
              "4  204.271795  146.697436  110.410256  32.095726  10.617094  \n",
              "\n",
              "[5 rows x 53 columns]"
            ],
            "text/html": [
              "\n",
              "  <div id=\"df-e11e9b21-ff11-4408-ac98-5653faace83b\" class=\"colab-df-container\">\n",
              "    <div>\n",
              "<style scoped>\n",
              "    .dataframe tbody tr th:only-of-type {\n",
              "        vertical-align: middle;\n",
              "    }\n",
              "\n",
              "    .dataframe tbody tr th {\n",
              "        vertical-align: top;\n",
              "    }\n",
              "\n",
              "    .dataframe thead th {\n",
              "        text-align: right;\n",
              "    }\n",
              "</style>\n",
              "<table border=\"1\" class=\"dataframe\">\n",
              "  <thead>\n",
              "    <tr style=\"text-align: right;\">\n",
              "      <th></th>\n",
              "      <th>team</th>\n",
              "      <th>year</th>\n",
              "      <th>win_loss_ratio</th>\n",
              "      <th>o_pts</th>\n",
              "      <th>o_fgm</th>\n",
              "      <th>o_fga</th>\n",
              "      <th>o_ftm</th>\n",
              "      <th>o_fta</th>\n",
              "      <th>o_oreb</th>\n",
              "      <th>o_dreb</th>\n",
              "      <th>...</th>\n",
              "      <th>stl</th>\n",
              "      <th>blk</th>\n",
              "      <th>turnover</th>\n",
              "      <th>pf</th>\n",
              "      <th>fga</th>\n",
              "      <th>fgm</th>\n",
              "      <th>fta</th>\n",
              "      <th>ftm</th>\n",
              "      <th>tpa</th>\n",
              "      <th>tpm</th>\n",
              "    </tr>\n",
              "  </thead>\n",
              "  <tbody>\n",
              "    <tr>\n",
              "      <th>0</th>\n",
              "      <td>ANA</td>\n",
              "      <td>1967</td>\n",
              "      <td>0.320513</td>\n",
              "      <td>8704.0</td>\n",
              "      <td>3172.0</td>\n",
              "      <td>7606.0</td>\n",
              "      <td>2141.0</td>\n",
              "      <td>2916.0</td>\n",
              "      <td>0.0</td>\n",
              "      <td>0.0</td>\n",
              "      <td>...</td>\n",
              "      <td>0.000000</td>\n",
              "      <td>0.000000</td>\n",
              "      <td>79.210526</td>\n",
              "      <td>114.842105</td>\n",
              "      <td>406.263158</td>\n",
              "      <td>170.052632</td>\n",
              "      <td>153.421053</td>\n",
              "      <td>112.473684</td>\n",
              "      <td>36.578947</td>\n",
              "      <td>11.157895</td>\n",
              "    </tr>\n",
              "    <tr>\n",
              "      <th>1</th>\n",
              "      <td>AND</td>\n",
              "      <td>1949</td>\n",
              "      <td>0.578125</td>\n",
              "      <td>5589.0</td>\n",
              "      <td>1943.0</td>\n",
              "      <td>6254.0</td>\n",
              "      <td>1703.0</td>\n",
              "      <td>2343.0</td>\n",
              "      <td>0.0</td>\n",
              "      <td>0.0</td>\n",
              "      <td>...</td>\n",
              "      <td>0.000000</td>\n",
              "      <td>0.000000</td>\n",
              "      <td>0.000000</td>\n",
              "      <td>112.875000</td>\n",
              "      <td>390.875000</td>\n",
              "      <td>121.437500</td>\n",
              "      <td>146.437500</td>\n",
              "      <td>106.437500</td>\n",
              "      <td>0.000000</td>\n",
              "      <td>0.000000</td>\n",
              "    </tr>\n",
              "    <tr>\n",
              "      <th>2</th>\n",
              "      <td>ATL</td>\n",
              "      <td>1968</td>\n",
              "      <td>0.585366</td>\n",
              "      <td>9123.0</td>\n",
              "      <td>3605.0</td>\n",
              "      <td>7844.0</td>\n",
              "      <td>1913.0</td>\n",
              "      <td>2785.0</td>\n",
              "      <td>0.0</td>\n",
              "      <td>0.0</td>\n",
              "      <td>...</td>\n",
              "      <td>38.331624</td>\n",
              "      <td>23.023932</td>\n",
              "      <td>61.225641</td>\n",
              "      <td>122.747009</td>\n",
              "      <td>442.929915</td>\n",
              "      <td>204.271795</td>\n",
              "      <td>146.697436</td>\n",
              "      <td>110.410256</td>\n",
              "      <td>32.095726</td>\n",
              "      <td>10.617094</td>\n",
              "    </tr>\n",
              "    <tr>\n",
              "      <th>3</th>\n",
              "      <td>ATL</td>\n",
              "      <td>1969</td>\n",
              "      <td>0.585366</td>\n",
              "      <td>9646.0</td>\n",
              "      <td>3817.0</td>\n",
              "      <td>7907.0</td>\n",
              "      <td>2012.0</td>\n",
              "      <td>2669.0</td>\n",
              "      <td>0.0</td>\n",
              "      <td>0.0</td>\n",
              "      <td>...</td>\n",
              "      <td>38.331624</td>\n",
              "      <td>23.023932</td>\n",
              "      <td>61.225641</td>\n",
              "      <td>122.747009</td>\n",
              "      <td>442.929915</td>\n",
              "      <td>204.271795</td>\n",
              "      <td>146.697436</td>\n",
              "      <td>110.410256</td>\n",
              "      <td>32.095726</td>\n",
              "      <td>10.617094</td>\n",
              "    </tr>\n",
              "    <tr>\n",
              "      <th>4</th>\n",
              "      <td>ATL</td>\n",
              "      <td>1970</td>\n",
              "      <td>0.439024</td>\n",
              "      <td>9348.0</td>\n",
              "      <td>3614.0</td>\n",
              "      <td>7779.0</td>\n",
              "      <td>2120.0</td>\n",
              "      <td>2975.0</td>\n",
              "      <td>0.0</td>\n",
              "      <td>0.0</td>\n",
              "      <td>...</td>\n",
              "      <td>38.331624</td>\n",
              "      <td>23.023932</td>\n",
              "      <td>61.225641</td>\n",
              "      <td>122.747009</td>\n",
              "      <td>442.929915</td>\n",
              "      <td>204.271795</td>\n",
              "      <td>146.697436</td>\n",
              "      <td>110.410256</td>\n",
              "      <td>32.095726</td>\n",
              "      <td>10.617094</td>\n",
              "    </tr>\n",
              "  </tbody>\n",
              "</table>\n",
              "<p>5 rows × 53 columns</p>\n",
              "</div>\n",
              "    <div class=\"colab-df-buttons\">\n",
              "\n",
              "  <div class=\"colab-df-container\">\n",
              "    <button class=\"colab-df-convert\" onclick=\"convertToInteractive('df-e11e9b21-ff11-4408-ac98-5653faace83b')\"\n",
              "            title=\"Convert this dataframe to an interactive table.\"\n",
              "            style=\"display:none;\">\n",
              "\n",
              "  <svg xmlns=\"http://www.w3.org/2000/svg\" height=\"24px\" viewBox=\"0 -960 960 960\">\n",
              "    <path d=\"M120-120v-720h720v720H120Zm60-500h600v-160H180v160Zm220 220h160v-160H400v160Zm0 220h160v-160H400v160ZM180-400h160v-160H180v160Zm440 0h160v-160H620v160ZM180-180h160v-160H180v160Zm440 0h160v-160H620v160Z\"/>\n",
              "  </svg>\n",
              "    </button>\n",
              "\n",
              "  <style>\n",
              "    .colab-df-container {\n",
              "      display:flex;\n",
              "      gap: 12px;\n",
              "    }\n",
              "\n",
              "    .colab-df-convert {\n",
              "      background-color: #E8F0FE;\n",
              "      border: none;\n",
              "      border-radius: 50%;\n",
              "      cursor: pointer;\n",
              "      display: none;\n",
              "      fill: #1967D2;\n",
              "      height: 32px;\n",
              "      padding: 0 0 0 0;\n",
              "      width: 32px;\n",
              "    }\n",
              "\n",
              "    .colab-df-convert:hover {\n",
              "      background-color: #E2EBFA;\n",
              "      box-shadow: 0px 1px 2px rgba(60, 64, 67, 0.3), 0px 1px 3px 1px rgba(60, 64, 67, 0.15);\n",
              "      fill: #174EA6;\n",
              "    }\n",
              "\n",
              "    .colab-df-buttons div {\n",
              "      margin-bottom: 4px;\n",
              "    }\n",
              "\n",
              "    [theme=dark] .colab-df-convert {\n",
              "      background-color: #3B4455;\n",
              "      fill: #D2E3FC;\n",
              "    }\n",
              "\n",
              "    [theme=dark] .colab-df-convert:hover {\n",
              "      background-color: #434B5C;\n",
              "      box-shadow: 0px 1px 3px 1px rgba(0, 0, 0, 0.15);\n",
              "      filter: drop-shadow(0px 1px 2px rgba(0, 0, 0, 0.3));\n",
              "      fill: #FFFFFF;\n",
              "    }\n",
              "  </style>\n",
              "\n",
              "    <script>\n",
              "      const buttonEl =\n",
              "        document.querySelector('#df-e11e9b21-ff11-4408-ac98-5653faace83b button.colab-df-convert');\n",
              "      buttonEl.style.display =\n",
              "        google.colab.kernel.accessAllowed ? 'block' : 'none';\n",
              "\n",
              "      async function convertToInteractive(key) {\n",
              "        const element = document.querySelector('#df-e11e9b21-ff11-4408-ac98-5653faace83b');\n",
              "        const dataTable =\n",
              "          await google.colab.kernel.invokeFunction('convertToInteractive',\n",
              "                                                    [key], {});\n",
              "        if (!dataTable) return;\n",
              "\n",
              "        const docLinkHtml = 'Like what you see? Visit the ' +\n",
              "          '<a target=\"_blank\" href=https://colab.research.google.com/notebooks/data_table.ipynb>data table notebook</a>'\n",
              "          + ' to learn more about interactive tables.';\n",
              "        element.innerHTML = '';\n",
              "        dataTable['output_type'] = 'display_data';\n",
              "        await google.colab.output.renderOutput(dataTable, element);\n",
              "        const docLink = document.createElement('div');\n",
              "        docLink.innerHTML = docLinkHtml;\n",
              "        element.appendChild(docLink);\n",
              "      }\n",
              "    </script>\n",
              "  </div>\n",
              "\n",
              "\n",
              "<div id=\"df-c2b13514-5650-46e9-a5e9-7dcc758a7578\">\n",
              "  <button class=\"colab-df-quickchart\" onclick=\"quickchart('df-c2b13514-5650-46e9-a5e9-7dcc758a7578')\"\n",
              "            title=\"Suggest charts\"\n",
              "            style=\"display:none;\">\n",
              "\n",
              "<svg xmlns=\"http://www.w3.org/2000/svg\" height=\"24px\"viewBox=\"0 0 24 24\"\n",
              "     width=\"24px\">\n",
              "    <g>\n",
              "        <path d=\"M19 3H5c-1.1 0-2 .9-2 2v14c0 1.1.9 2 2 2h14c1.1 0 2-.9 2-2V5c0-1.1-.9-2-2-2zM9 17H7v-7h2v7zm4 0h-2V7h2v10zm4 0h-2v-4h2v4z\"/>\n",
              "    </g>\n",
              "</svg>\n",
              "  </button>\n",
              "\n",
              "<style>\n",
              "  .colab-df-quickchart {\n",
              "      --bg-color: #E8F0FE;\n",
              "      --fill-color: #1967D2;\n",
              "      --hover-bg-color: #E2EBFA;\n",
              "      --hover-fill-color: #174EA6;\n",
              "      --disabled-fill-color: #AAA;\n",
              "      --disabled-bg-color: #DDD;\n",
              "  }\n",
              "\n",
              "  [theme=dark] .colab-df-quickchart {\n",
              "      --bg-color: #3B4455;\n",
              "      --fill-color: #D2E3FC;\n",
              "      --hover-bg-color: #434B5C;\n",
              "      --hover-fill-color: #FFFFFF;\n",
              "      --disabled-bg-color: #3B4455;\n",
              "      --disabled-fill-color: #666;\n",
              "  }\n",
              "\n",
              "  .colab-df-quickchart {\n",
              "    background-color: var(--bg-color);\n",
              "    border: none;\n",
              "    border-radius: 50%;\n",
              "    cursor: pointer;\n",
              "    display: none;\n",
              "    fill: var(--fill-color);\n",
              "    height: 32px;\n",
              "    padding: 0;\n",
              "    width: 32px;\n",
              "  }\n",
              "\n",
              "  .colab-df-quickchart:hover {\n",
              "    background-color: var(--hover-bg-color);\n",
              "    box-shadow: 0 1px 2px rgba(60, 64, 67, 0.3), 0 1px 3px 1px rgba(60, 64, 67, 0.15);\n",
              "    fill: var(--button-hover-fill-color);\n",
              "  }\n",
              "\n",
              "  .colab-df-quickchart-complete:disabled,\n",
              "  .colab-df-quickchart-complete:disabled:hover {\n",
              "    background-color: var(--disabled-bg-color);\n",
              "    fill: var(--disabled-fill-color);\n",
              "    box-shadow: none;\n",
              "  }\n",
              "\n",
              "  .colab-df-spinner {\n",
              "    border: 2px solid var(--fill-color);\n",
              "    border-color: transparent;\n",
              "    border-bottom-color: var(--fill-color);\n",
              "    animation:\n",
              "      spin 1s steps(1) infinite;\n",
              "  }\n",
              "\n",
              "  @keyframes spin {\n",
              "    0% {\n",
              "      border-color: transparent;\n",
              "      border-bottom-color: var(--fill-color);\n",
              "      border-left-color: var(--fill-color);\n",
              "    }\n",
              "    20% {\n",
              "      border-color: transparent;\n",
              "      border-left-color: var(--fill-color);\n",
              "      border-top-color: var(--fill-color);\n",
              "    }\n",
              "    30% {\n",
              "      border-color: transparent;\n",
              "      border-left-color: var(--fill-color);\n",
              "      border-top-color: var(--fill-color);\n",
              "      border-right-color: var(--fill-color);\n",
              "    }\n",
              "    40% {\n",
              "      border-color: transparent;\n",
              "      border-right-color: var(--fill-color);\n",
              "      border-top-color: var(--fill-color);\n",
              "    }\n",
              "    60% {\n",
              "      border-color: transparent;\n",
              "      border-right-color: var(--fill-color);\n",
              "    }\n",
              "    80% {\n",
              "      border-color: transparent;\n",
              "      border-right-color: var(--fill-color);\n",
              "      border-bottom-color: var(--fill-color);\n",
              "    }\n",
              "    90% {\n",
              "      border-color: transparent;\n",
              "      border-bottom-color: var(--fill-color);\n",
              "    }\n",
              "  }\n",
              "</style>\n",
              "\n",
              "  <script>\n",
              "    async function quickchart(key) {\n",
              "      const quickchartButtonEl =\n",
              "        document.querySelector('#' + key + ' button');\n",
              "      quickchartButtonEl.disabled = true;  // To prevent multiple clicks.\n",
              "      quickchartButtonEl.classList.add('colab-df-spinner');\n",
              "      try {\n",
              "        const charts = await google.colab.kernel.invokeFunction(\n",
              "            'suggestCharts', [key], {});\n",
              "      } catch (error) {\n",
              "        console.error('Error during call to suggestCharts:', error);\n",
              "      }\n",
              "      quickchartButtonEl.classList.remove('colab-df-spinner');\n",
              "      quickchartButtonEl.classList.add('colab-df-quickchart-complete');\n",
              "    }\n",
              "    (() => {\n",
              "      let quickchartButtonEl =\n",
              "        document.querySelector('#df-c2b13514-5650-46e9-a5e9-7dcc758a7578 button');\n",
              "      quickchartButtonEl.style.display =\n",
              "        google.colab.kernel.accessAllowed ? 'block' : 'none';\n",
              "    })();\n",
              "  </script>\n",
              "</div>\n",
              "\n",
              "    </div>\n",
              "  </div>\n"
            ],
            "application/vnd.google.colaboratory.intrinsic+json": {
              "type": "dataframe",
              "variable_name": "full_data"
            }
          },
          "metadata": {},
          "execution_count": 12
        }
      ]
    },
    {
      "cell_type": "code",
      "source": [
        "print(full_data.shape)"
      ],
      "metadata": {
        "colab": {
          "base_uri": "https://localhost:8080/"
        },
        "id": "PRlcwBvZJb6O",
        "outputId": "fa892983-c6f6-40cc-8d74-6a40500c4a38"
      },
      "execution_count": null,
      "outputs": [
        {
          "output_type": "stream",
          "name": "stdout",
          "text": [
            "(1187, 53)\n"
          ]
        }
      ]
    },
    {
      "cell_type": "code",
      "source": [
        "print(list(full_data.columns))"
      ],
      "metadata": {
        "colab": {
          "base_uri": "https://localhost:8080/"
        },
        "id": "jO6gvLkTZNPN",
        "outputId": "85c6670c-0348-4f14-9fc8-6842c7d729d5"
      },
      "execution_count": null,
      "outputs": [
        {
          "output_type": "stream",
          "name": "stdout",
          "text": [
            "['team', 'year', 'win_loss_ratio', 'o_pts', 'o_fgm', 'o_fga', 'o_ftm', 'o_fta', 'o_oreb', 'o_dreb', 'o_reb', 'o_asts', 'o_pf', 'o_stl', 'o_to', 'o_blk', 'o_3pm', 'o_3pa', 'd_pts', 'd_fgm', 'd_fga', 'd_ftm', 'd_fta', 'd_oreb', 'd_dreb', 'd_reb', 'd_asts', 'd_pf', 'd_stl', 'd_to', 'd_blk', 'd_3pm', 'd_3pa', 'win_ratio', 'playoff_win', 'playoff_loss', 'selection', 'pts', 'gp', 'oreb', 'dreb', 'reb', 'asts', 'stl', 'blk', 'turnover', 'pf', 'fga', 'fgm', 'fta', 'ftm', 'tpa', 'tpm']\n"
          ]
        }
      ]
    },
    {
      "cell_type": "markdown",
      "source": [
        "## **3.2. Train-Test Split**"
      ],
      "metadata": {
        "id": "ZgAhNC5WHFTG"
      }
    },
    {
      "cell_type": "code",
      "execution_count": null,
      "metadata": {
        "id": "emflhKY_C7kR"
      },
      "outputs": [],
      "source": [
        "from sklearn.model_selection import train_test_split\n",
        "from sklearn.ensemble import RandomForestRegressor\n",
        "from sklearn.impute import SimpleImputer\n",
        "\n",
        "# Preparing data for training\n",
        "X = full_data.drop(columns=['o_pts', 'team', 'year', 'selection', 'playoff_win', 'playoff_loss', 'win_loss_ratio',\n",
        "                            'gp', 'pts', 'oreb', 'dreb', 'reb', 'asts', 'stl', 'blk', 'turnover', 'pf',\n",
        "                            'fga', 'fgm', 'fta', 'ftm', 'tpa', 'tpm'])\n",
        "\n",
        "\"\"\"\n",
        "ALL FEATURES:\n",
        "['team', 'year', 'win_loss_ratio', 'o_pts', 'o_fgm', 'o_fga', 'o_ftm', 'o_fta', 'o_oreb', 'o_dreb',\n",
        " 'o_reb', 'o_asts', 'o_pf', 'o_stl', 'o_to', 'o_blk', 'o_3pm', 'o_3pa', 'd_pts', 'd_fgm', 'd_fga', 'd_ftm', 'd_fta', 'd_oreb',\n",
        " 'd_dreb', 'd_reb', 'd_asts', 'd_pf', 'd_stl', 'd_to', 'd_blk', 'd_3pm', 'd_3pa', 'win_ratio', 'playoff_win', 'playoff_loss',\n",
        " 'selection', 'pts', 'gp', 'oreb', 'dreb', 'reb', 'asts', 'stl', 'blk', 'turnover', 'pf', 'fga', 'fgm', 'fta', 'ftm', 'tpa', 'tpm']\"\"\"\n",
        "\n",
        "y = full_data['o_pts']\n",
        "\n",
        "# Use SimpleImputer to fill NaN values in feature set X\n",
        "imputer = SimpleImputer(strategy='mean')  # or 'median' or 'most_frequent' based on your data\n",
        "X_imputed = imputer.fit_transform(X)\n",
        "\n",
        "\n",
        "\"\"\"# Drop rows with NaN values in the feature set X\n",
        "X_imputed = X.dropna()\n",
        "\n",
        "# Drop the corresponding rows in y (the target variable)\n",
        "y = y[X_imputed.index]  # Ensure that y corresponds to the rows of X\"\"\"\n",
        "\n",
        "X_train, X_test, y_train, y_test = train_test_split(X_imputed, y, test_size=0.2, random_state=42)\n"
      ]
    },
    {
      "cell_type": "markdown",
      "source": [
        "# **4. Model Evaluation**"
      ],
      "metadata": {
        "id": "cYrQ748LC7kP"
      }
    },
    {
      "cell_type": "code",
      "source": [
        "import pandas as pd\n",
        "import numpy as np\n",
        "from sklearn.model_selection import train_test_split\n",
        "from sklearn.linear_model import LinearRegression\n",
        "from sklearn.ensemble import RandomForestRegressor, GradientBoostingRegressor\n",
        "from sklearn.svm import SVR\n",
        "from sklearn.metrics import mean_absolute_error, mean_squared_error, r2_score, explained_variance_score\n",
        "from sklearn.preprocessing import StandardScaler\n",
        "from sklearn.tree import DecisionTreeClassifier, DecisionTreeRegressor\n",
        "import xgboost as xgb\n",
        "\n",
        "# Define regression models\n",
        "models = {\n",
        "    'Linear Regression': LinearRegression(),\n",
        "    'Decision Tree': DecisionTreeRegressor(),\n",
        "    'Random Forest': RandomForestRegressor(n_estimators=100, random_state=42),\n",
        "    'Gradient Boosting': GradientBoostingRegressor(n_estimators=100, random_state=42),\n",
        "    'XGBoost Regressor': xgb.XGBRegressor(n_estimators=100, random_state=42),\n",
        "    'Support Vector Regressor': SVR(kernel='rbf', C=1.0, epsilon=0.2),\n",
        "}\n",
        "\n",
        "# Scaling the data for models that are sensitive to feature scales\n",
        "scaler = StandardScaler()\n",
        "X_train_scaled = scaler.fit_transform(X_train)\n",
        "X_test_scaled = scaler.transform(X_test)\n",
        "\n",
        "# Function to evaluate and print model performance\n",
        "def evaluate_model(model, X_train, X_test, y_train, y_test, model_name):\n",
        "    # Train the model\n",
        "    model.fit(X_train, y_train)\n",
        "    # Predict on test data\n",
        "    y_pred = model.predict(X_test)\n",
        "\n",
        "    # Calculate metrics\n",
        "    mae = mean_absolute_error(y_test, y_pred)\n",
        "    mse = mean_squared_error(y_test, y_pred)\n",
        "    rmse = np.sqrt(mse)\n",
        "    r2 = r2_score(y_test, y_pred)\n",
        "    evs = explained_variance_score(y_test, y_pred)\n",
        "\n",
        "    # Print the results\n",
        "    print(f\"{model_name} Performance:\")\n",
        "    print(f\"Mean Absolute Error: {mae:.3f}\")\n",
        "    print(f\"Mean Squared Error: {mse:.3f}\")\n",
        "    print(f\"Root Mean Squared Error: {rmse:.3f}\")\n",
        "    print(f\"R-squared: {r2:.3f}\")\n",
        "    print(f\"Explained Variance Score: {evs:.3f}\")\n",
        "    print(\"-\" * 30)\n",
        "\n",
        "# Evaluate each model\n",
        "for model_name, model in models.items():\n",
        "    if model_name in ['Linear Regression', 'Support Vector Regressor']:\n",
        "        # Scale data for linear models\n",
        "        evaluate_model(model, X_train_scaled, X_test_scaled, y_train, y_test, model_name)\n",
        "    else:\n",
        "        # Non-linear models can work with unscaled data\n",
        "        evaluate_model(model, X_train, X_test, y_train, y_test, model_name)"
      ],
      "metadata": {
        "colab": {
          "base_uri": "https://localhost:8080/"
        },
        "id": "iwzeoLuFHYdU",
        "outputId": "64fc2683-1b57-400a-b5c3-ab686da06bc5"
      },
      "execution_count": null,
      "outputs": [
        {
          "output_type": "stream",
          "name": "stdout",
          "text": [
            "Linear Regression Performance:\n",
            "Mean Absolute Error: 0.016\n",
            "Mean Squared Error: 0.017\n",
            "Root Mean Squared Error: 0.130\n",
            "R-squared: 1.000\n",
            "Explained Variance Score: 1.000\n",
            "------------------------------\n",
            "Decision Tree Performance:\n",
            "Mean Absolute Error: 124.903\n",
            "Mean Squared Error: 24497.374\n",
            "Root Mean Squared Error: 156.516\n",
            "R-squared: 0.984\n",
            "Explained Variance Score: 0.984\n",
            "------------------------------\n",
            "Random Forest Performance:\n",
            "Mean Absolute Error: 68.991\n",
            "Mean Squared Error: 9098.551\n",
            "Root Mean Squared Error: 95.386\n",
            "R-squared: 0.994\n",
            "Explained Variance Score: 0.994\n",
            "------------------------------\n",
            "Gradient Boosting Performance:\n",
            "Mean Absolute Error: 49.503\n",
            "Mean Squared Error: 4272.620\n",
            "Root Mean Squared Error: 65.365\n",
            "R-squared: 0.997\n",
            "Explained Variance Score: 0.997\n",
            "------------------------------\n",
            "XGBoost Regressor Performance:\n",
            "Mean Absolute Error: 56.918\n",
            "Mean Squared Error: 5960.682\n",
            "Root Mean Squared Error: 77.205\n",
            "R-squared: 0.996\n",
            "Explained Variance Score: 0.996\n",
            "------------------------------\n",
            "Support Vector Regressor Performance:\n",
            "Mean Absolute Error: 790.681\n",
            "Mean Squared Error: 1476439.680\n",
            "Root Mean Squared Error: 1215.088\n",
            "R-squared: 0.034\n",
            "Explained Variance Score: 0.061\n",
            "------------------------------\n"
          ]
        }
      ]
    }
  ]
}